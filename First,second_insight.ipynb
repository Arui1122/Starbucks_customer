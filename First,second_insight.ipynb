{
 "cells": [
  {
   "cell_type": "code",
   "execution_count": 1,
   "metadata": {
    "executionInfo": {
     "elapsed": 480,
     "status": "ok",
     "timestamp": 1702472115711,
     "user": {
      "displayName": "謝東睿",
      "userId": "05959258176489999299"
     },
     "user_tz": -480
    },
    "id": "0MNlcxWwwwVE"
   },
   "outputs": [],
   "source": [
    "import pandas as pd\n",
    "import numpy as np\n",
    "import json\n",
    "import matplotlib.pyplot as plt\n",
    "import matplotlib.dates as mdates\n",
    "import seaborn as sns"
   ]
  },
  {
   "cell_type": "code",
   "execution_count": 2,
   "metadata": {
    "executionInfo": {
     "elapsed": 3156,
     "status": "ok",
     "timestamp": 1702472118865,
     "user": {
      "displayName": "謝東睿",
      "userId": "05959258176489999299"
     },
     "user_tz": -480
    },
    "id": "rNj7lREgxaXf"
   },
   "outputs": [],
   "source": [
    "# orient='records' parameter informs each line in the file represents a JSON record\n",
    "df_portfolio = pd.read_json(r\"C:\\Users\\user\\Downloads\\archive (1)\\portfolio.json\",orient=\"records\", lines=True)\n",
    "df_customer = pd.read_json(r\"C:\\Users\\user\\Downloads\\archive (1)\\profile.json\", orient=\"records\", lines=True)\n",
    "df_transcript = pd.read_json(r\"C:\\Users\\user\\Downloads\\archive (1)\\transcript.json\", orient=\"records\", lines=True)"
   ]
  },
  {
   "cell_type": "code",
   "execution_count": 3,
   "metadata": {
    "colab": {
     "base_uri": "https://localhost:8080/"
    },
    "executionInfo": {
     "elapsed": 26,
     "status": "ok",
     "timestamp": 1702472118865,
     "user": {
      "displayName": "謝東睿",
      "userId": "05959258176489999299"
     },
     "user_tz": -480
    },
    "id": "kDvcnEcTyEYy",
    "outputId": "c5a710b1-1e1d-4bff-b2ba-bd96c37b9d8f"
   },
   "outputs": [
    {
     "name": "stdout",
     "output_type": "stream",
     "text": [
      "(10, 6)\n",
      "(17000, 5)\n",
      "(306534, 4)\n"
     ]
    }
   ],
   "source": [
    "print(df_portfolio.shape)\n",
    "print(df_customer.shape)\n",
    "print(df_transcript.shape)"
   ]
  },
  {
   "cell_type": "code",
   "execution_count": 4,
   "metadata": {
    "scrolled": true
   },
   "outputs": [
    {
     "data": {
      "text/html": [
       "<div>\n",
       "<style scoped>\n",
       "    .dataframe tbody tr th:only-of-type {\n",
       "        vertical-align: middle;\n",
       "    }\n",
       "\n",
       "    .dataframe tbody tr th {\n",
       "        vertical-align: top;\n",
       "    }\n",
       "\n",
       "    .dataframe thead th {\n",
       "        text-align: right;\n",
       "    }\n",
       "</style>\n",
       "<table border=\"1\" class=\"dataframe\">\n",
       "  <thead>\n",
       "    <tr style=\"text-align: right;\">\n",
       "      <th></th>\n",
       "      <th>reward</th>\n",
       "      <th>channels</th>\n",
       "      <th>difficulty</th>\n",
       "      <th>duration</th>\n",
       "      <th>offer_type</th>\n",
       "      <th>id</th>\n",
       "    </tr>\n",
       "  </thead>\n",
       "  <tbody>\n",
       "    <tr>\n",
       "      <th>0</th>\n",
       "      <td>10</td>\n",
       "      <td>[email, mobile, social]</td>\n",
       "      <td>10</td>\n",
       "      <td>7</td>\n",
       "      <td>bogo</td>\n",
       "      <td>ae264e3637204a6fb9bb56bc8210ddfd</td>\n",
       "    </tr>\n",
       "    <tr>\n",
       "      <th>1</th>\n",
       "      <td>10</td>\n",
       "      <td>[web, email, mobile, social]</td>\n",
       "      <td>10</td>\n",
       "      <td>5</td>\n",
       "      <td>bogo</td>\n",
       "      <td>4d5c57ea9a6940dd891ad53e9dbe8da0</td>\n",
       "    </tr>\n",
       "    <tr>\n",
       "      <th>2</th>\n",
       "      <td>0</td>\n",
       "      <td>[web, email, mobile]</td>\n",
       "      <td>0</td>\n",
       "      <td>4</td>\n",
       "      <td>informational</td>\n",
       "      <td>3f207df678b143eea3cee63160fa8bed</td>\n",
       "    </tr>\n",
       "    <tr>\n",
       "      <th>3</th>\n",
       "      <td>5</td>\n",
       "      <td>[web, email, mobile]</td>\n",
       "      <td>5</td>\n",
       "      <td>7</td>\n",
       "      <td>bogo</td>\n",
       "      <td>9b98b8c7a33c4b65b9aebfe6a799e6d9</td>\n",
       "    </tr>\n",
       "    <tr>\n",
       "      <th>4</th>\n",
       "      <td>5</td>\n",
       "      <td>[web, email]</td>\n",
       "      <td>20</td>\n",
       "      <td>10</td>\n",
       "      <td>discount</td>\n",
       "      <td>0b1e1539f2cc45b7b9fa7c272da2e1d7</td>\n",
       "    </tr>\n",
       "  </tbody>\n",
       "</table>\n",
       "</div>"
      ],
      "text/plain": [
       "   reward                      channels  difficulty  duration     offer_type  \\\n",
       "0      10       [email, mobile, social]          10         7           bogo   \n",
       "1      10  [web, email, mobile, social]          10         5           bogo   \n",
       "2       0          [web, email, mobile]           0         4  informational   \n",
       "3       5          [web, email, mobile]           5         7           bogo   \n",
       "4       5                  [web, email]          20        10       discount   \n",
       "\n",
       "                                 id  \n",
       "0  ae264e3637204a6fb9bb56bc8210ddfd  \n",
       "1  4d5c57ea9a6940dd891ad53e9dbe8da0  \n",
       "2  3f207df678b143eea3cee63160fa8bed  \n",
       "3  9b98b8c7a33c4b65b9aebfe6a799e6d9  \n",
       "4  0b1e1539f2cc45b7b9fa7c272da2e1d7  "
      ]
     },
     "execution_count": 4,
     "metadata": {},
     "output_type": "execute_result"
    }
   ],
   "source": [
    "df_portfolio.head()"
   ]
  },
  {
   "cell_type": "code",
   "execution_count": 5,
   "metadata": {},
   "outputs": [
    {
     "data": {
      "text/html": [
       "<div>\n",
       "<style scoped>\n",
       "    .dataframe tbody tr th:only-of-type {\n",
       "        vertical-align: middle;\n",
       "    }\n",
       "\n",
       "    .dataframe tbody tr th {\n",
       "        vertical-align: top;\n",
       "    }\n",
       "\n",
       "    .dataframe thead th {\n",
       "        text-align: right;\n",
       "    }\n",
       "</style>\n",
       "<table border=\"1\" class=\"dataframe\">\n",
       "  <thead>\n",
       "    <tr style=\"text-align: right;\">\n",
       "      <th></th>\n",
       "      <th>gender</th>\n",
       "      <th>age</th>\n",
       "      <th>id</th>\n",
       "      <th>became_member_on</th>\n",
       "      <th>income</th>\n",
       "    </tr>\n",
       "  </thead>\n",
       "  <tbody>\n",
       "    <tr>\n",
       "      <th>0</th>\n",
       "      <td>None</td>\n",
       "      <td>118</td>\n",
       "      <td>68be06ca386d4c31939f3a4f0e3dd783</td>\n",
       "      <td>20170212</td>\n",
       "      <td>NaN</td>\n",
       "    </tr>\n",
       "    <tr>\n",
       "      <th>1</th>\n",
       "      <td>F</td>\n",
       "      <td>55</td>\n",
       "      <td>0610b486422d4921ae7d2bf64640c50b</td>\n",
       "      <td>20170715</td>\n",
       "      <td>112000.0</td>\n",
       "    </tr>\n",
       "    <tr>\n",
       "      <th>2</th>\n",
       "      <td>None</td>\n",
       "      <td>118</td>\n",
       "      <td>38fe809add3b4fcf9315a9694bb96ff5</td>\n",
       "      <td>20180712</td>\n",
       "      <td>NaN</td>\n",
       "    </tr>\n",
       "    <tr>\n",
       "      <th>3</th>\n",
       "      <td>F</td>\n",
       "      <td>75</td>\n",
       "      <td>78afa995795e4d85b5d9ceeca43f5fef</td>\n",
       "      <td>20170509</td>\n",
       "      <td>100000.0</td>\n",
       "    </tr>\n",
       "    <tr>\n",
       "      <th>4</th>\n",
       "      <td>None</td>\n",
       "      <td>118</td>\n",
       "      <td>a03223e636434f42ac4c3df47e8bac43</td>\n",
       "      <td>20170804</td>\n",
       "      <td>NaN</td>\n",
       "    </tr>\n",
       "  </tbody>\n",
       "</table>\n",
       "</div>"
      ],
      "text/plain": [
       "  gender  age                                id  became_member_on    income\n",
       "0   None  118  68be06ca386d4c31939f3a4f0e3dd783          20170212       NaN\n",
       "1      F   55  0610b486422d4921ae7d2bf64640c50b          20170715  112000.0\n",
       "2   None  118  38fe809add3b4fcf9315a9694bb96ff5          20180712       NaN\n",
       "3      F   75  78afa995795e4d85b5d9ceeca43f5fef          20170509  100000.0\n",
       "4   None  118  a03223e636434f42ac4c3df47e8bac43          20170804       NaN"
      ]
     },
     "execution_count": 5,
     "metadata": {},
     "output_type": "execute_result"
    }
   ],
   "source": [
    "df_customer.head()"
   ]
  },
  {
   "cell_type": "code",
   "execution_count": 6,
   "metadata": {},
   "outputs": [
    {
     "data": {
      "text/html": [
       "<div>\n",
       "<style scoped>\n",
       "    .dataframe tbody tr th:only-of-type {\n",
       "        vertical-align: middle;\n",
       "    }\n",
       "\n",
       "    .dataframe tbody tr th {\n",
       "        vertical-align: top;\n",
       "    }\n",
       "\n",
       "    .dataframe thead th {\n",
       "        text-align: right;\n",
       "    }\n",
       "</style>\n",
       "<table border=\"1\" class=\"dataframe\">\n",
       "  <thead>\n",
       "    <tr style=\"text-align: right;\">\n",
       "      <th></th>\n",
       "      <th>person</th>\n",
       "      <th>event</th>\n",
       "      <th>value</th>\n",
       "      <th>time</th>\n",
       "    </tr>\n",
       "  </thead>\n",
       "  <tbody>\n",
       "    <tr>\n",
       "      <th>0</th>\n",
       "      <td>78afa995795e4d85b5d9ceeca43f5fef</td>\n",
       "      <td>offer received</td>\n",
       "      <td>{'offer id': '9b98b8c7a33c4b65b9aebfe6a799e6d9'}</td>\n",
       "      <td>0</td>\n",
       "    </tr>\n",
       "    <tr>\n",
       "      <th>1</th>\n",
       "      <td>a03223e636434f42ac4c3df47e8bac43</td>\n",
       "      <td>offer received</td>\n",
       "      <td>{'offer id': '0b1e1539f2cc45b7b9fa7c272da2e1d7'}</td>\n",
       "      <td>0</td>\n",
       "    </tr>\n",
       "    <tr>\n",
       "      <th>2</th>\n",
       "      <td>e2127556f4f64592b11af22de27a7932</td>\n",
       "      <td>offer received</td>\n",
       "      <td>{'offer id': '2906b810c7d4411798c6938adc9daaa5'}</td>\n",
       "      <td>0</td>\n",
       "    </tr>\n",
       "    <tr>\n",
       "      <th>3</th>\n",
       "      <td>8ec6ce2a7e7949b1bf142def7d0e0586</td>\n",
       "      <td>offer received</td>\n",
       "      <td>{'offer id': 'fafdcd668e3743c1bb461111dcafc2a4'}</td>\n",
       "      <td>0</td>\n",
       "    </tr>\n",
       "    <tr>\n",
       "      <th>4</th>\n",
       "      <td>68617ca6246f4fbc85e91a2a49552598</td>\n",
       "      <td>offer received</td>\n",
       "      <td>{'offer id': '4d5c57ea9a6940dd891ad53e9dbe8da0'}</td>\n",
       "      <td>0</td>\n",
       "    </tr>\n",
       "  </tbody>\n",
       "</table>\n",
       "</div>"
      ],
      "text/plain": [
       "                             person           event  \\\n",
       "0  78afa995795e4d85b5d9ceeca43f5fef  offer received   \n",
       "1  a03223e636434f42ac4c3df47e8bac43  offer received   \n",
       "2  e2127556f4f64592b11af22de27a7932  offer received   \n",
       "3  8ec6ce2a7e7949b1bf142def7d0e0586  offer received   \n",
       "4  68617ca6246f4fbc85e91a2a49552598  offer received   \n",
       "\n",
       "                                              value  time  \n",
       "0  {'offer id': '9b98b8c7a33c4b65b9aebfe6a799e6d9'}     0  \n",
       "1  {'offer id': '0b1e1539f2cc45b7b9fa7c272da2e1d7'}     0  \n",
       "2  {'offer id': '2906b810c7d4411798c6938adc9daaa5'}     0  \n",
       "3  {'offer id': 'fafdcd668e3743c1bb461111dcafc2a4'}     0  \n",
       "4  {'offer id': '4d5c57ea9a6940dd891ad53e9dbe8da0'}     0  "
      ]
     },
     "execution_count": 6,
     "metadata": {},
     "output_type": "execute_result"
    }
   ],
   "source": [
    "df_transcript.head()"
   ]
  },
  {
   "cell_type": "code",
   "execution_count": 7,
   "metadata": {
    "colab": {
     "base_uri": "https://localhost:8080/"
    },
    "executionInfo": {
     "elapsed": 5002,
     "status": "ok",
     "timestamp": 1702472124774,
     "user": {
      "displayName": "謝東睿",
      "userId": "05959258176489999299"
     },
     "user_tz": -480
    },
    "id": "ZAiNm0boGWzG",
    "outputId": "731237c1-472e-48c8-e81d-c2dfe375bfc6"
   },
   "outputs": [
    {
     "data": {
      "text/plain": [
       "reward        0\n",
       "channels      0\n",
       "difficulty    0\n",
       "duration      0\n",
       "offer_type    0\n",
       "id            0\n",
       "dtype: int64"
      ]
     },
     "execution_count": 7,
     "metadata": {},
     "output_type": "execute_result"
    }
   ],
   "source": [
    "df_portfolio.isna().sum()"
   ]
  },
  {
   "cell_type": "code",
   "execution_count": 8,
   "metadata": {
    "colab": {
     "base_uri": "https://localhost:8080/"
    },
    "executionInfo": {
     "elapsed": 313,
     "status": "ok",
     "timestamp": 1702472125076,
     "user": {
      "displayName": "謝東睿",
      "userId": "05959258176489999299"
     },
     "user_tz": -480
    },
    "id": "rnIR-_pfDc1v",
    "outputId": "792270d4-670b-41d7-db8a-f699f0b35bcf"
   },
   "outputs": [
    {
     "data": {
      "text/plain": [
       "gender              2175\n",
       "age                    0\n",
       "id                     0\n",
       "became_member_on       0\n",
       "income              2175\n",
       "dtype: int64"
      ]
     },
     "execution_count": 8,
     "metadata": {},
     "output_type": "execute_result"
    }
   ],
   "source": [
    "df_customer.isna().sum()"
   ]
  },
  {
   "cell_type": "code",
   "execution_count": 9,
   "metadata": {},
   "outputs": [
    {
     "data": {
      "text/plain": [
       "person    0\n",
       "event     0\n",
       "value     0\n",
       "time      0\n",
       "dtype: int64"
      ]
     },
     "execution_count": 9,
     "metadata": {},
     "output_type": "execute_result"
    }
   ],
   "source": [
    "df_transcript.isna().sum()"
   ]
  },
  {
   "cell_type": "code",
   "execution_count": 10,
   "metadata": {},
   "outputs": [
    {
     "data": {
      "text/plain": [
       "2175"
      ]
     },
     "execution_count": 10,
     "metadata": {},
     "output_type": "execute_result"
    }
   ],
   "source": [
    "#針對customer null值欄位細看\n",
    "missing_gender = df_customer[df_customer['gender'].isna()]\n",
    "missing_income = df_customer[df_customer['income'].isna()]\n",
    "\n",
    "np.sum(missing_gender['id'] == missing_income['id'])\n",
    "#比對上述的null值數量一致，表示此份資料有2157筆同時沒有性別和收入，雖然收入對我們想研究的問題很重要，但因扣除2175筆，\n",
    "#我們仍有14000多筆資料可以分析，故影響因不大，下一步將會將這些空值列移除"
   ]
  },
  {
   "cell_type": "code",
   "execution_count": 11,
   "metadata": {},
   "outputs": [
    {
     "name": "stdout",
     "output_type": "stream",
     "text": [
      "<class 'pandas.core.frame.DataFrame'>\n",
      "RangeIndex: 14825 entries, 0 to 14824\n",
      "Data columns (total 5 columns):\n",
      " #   Column            Non-Null Count  Dtype  \n",
      "---  ------            --------------  -----  \n",
      " 0   gender            14825 non-null  object \n",
      " 1   age               14825 non-null  int64  \n",
      " 2   id                14825 non-null  object \n",
      " 3   became_member_on  14825 non-null  int64  \n",
      " 4   income            14825 non-null  float64\n",
      "dtypes: float64(1), int64(2), object(2)\n",
      "memory usage: 579.2+ KB\n"
     ]
    }
   ],
   "source": [
    "id_to_remove = missing_income['id']\n",
    "df_customer_no_na = df_customer[~df_customer['id'].isin(id_to_remove)]\n",
    "df_customer_no_na = df_customer_no_na.reset_index(drop = True)\n",
    "df_customer_no_na.info()"
   ]
  },
  {
   "cell_type": "markdown",
   "metadata": {},
   "source": [
    "<h2> 各自檢查其Dtype"
   ]
  },
  {
   "cell_type": "code",
   "execution_count": 12,
   "metadata": {
    "colab": {
     "base_uri": "https://localhost:8080/"
    },
    "executionInfo": {
     "elapsed": 22,
     "status": "ok",
     "timestamp": 1702472118865,
     "user": {
      "displayName": "謝東睿",
      "userId": "05959258176489999299"
     },
     "user_tz": -480
    },
    "id": "1vdQpDDC0V8n",
    "outputId": "95da0803-bc46-4a60-d54d-b7ddd5b54691"
   },
   "outputs": [
    {
     "name": "stdout",
     "output_type": "stream",
     "text": [
      "<class 'pandas.core.frame.DataFrame'>\n",
      "RangeIndex: 10 entries, 0 to 9\n",
      "Data columns (total 6 columns):\n",
      " #   Column      Non-Null Count  Dtype \n",
      "---  ------      --------------  ----- \n",
      " 0   reward      10 non-null     int64 \n",
      " 1   channels    10 non-null     object\n",
      " 2   difficulty  10 non-null     int64 \n",
      " 3   duration    10 non-null     int64 \n",
      " 4   offer_type  10 non-null     object\n",
      " 5   id          10 non-null     object\n",
      "dtypes: int64(3), object(3)\n",
      "memory usage: 612.0+ bytes\n"
     ]
    }
   ],
   "source": [
    "df_portfolio.info()"
   ]
  },
  {
   "cell_type": "code",
   "execution_count": 13,
   "metadata": {},
   "outputs": [
    {
     "name": "stdout",
     "output_type": "stream",
     "text": [
      "First value in column channels: ['email', 'mobile', 'social']   --   Data type: <class 'list'>\n",
      "First value in column offer_type: bogo   --   Data type: <class 'str'>\n",
      "First value in column id: ae264e3637204a6fb9bb56bc8210ddfd   --   Data type: <class 'str'>\n"
     ]
    }
   ],
   "source": [
    "#針對 channels,offer_typ,id 三個object型態的欄位細看\n",
    "channels_0 = df_portfolio['channels'][0]\n",
    "offer_type_0 = df_portfolio['offer_type'][0]\n",
    "id_0 = df_portfolio['id'][0]\n",
    "\n",
    "print('First value in column channels:', channels_0, '  --   Data type:', type(channels_0))\n",
    "print('First value in column offer_type:', offer_type_0, '  --   Data type:', type(offer_type_0))\n",
    "print('First value in column id:', id_0, '  --   Data type:', type(id_0))\n",
    "#發現 portfolio 的channel 是發放管道的list組合，優惠券內容是字串，優惠券id也是字串"
   ]
  },
  {
   "cell_type": "code",
   "execution_count": 14,
   "metadata": {
    "colab": {
     "base_uri": "https://localhost:8080/"
    },
    "executionInfo": {
     "elapsed": 921,
     "status": "ok",
     "timestamp": 1702472119775,
     "user": {
      "displayName": "謝東睿",
      "userId": "05959258176489999299"
     },
     "user_tz": -480
    },
    "id": "9BS2YYs80lYG",
    "outputId": "242beec5-b2b4-425e-9b9c-2c6690cce50f"
   },
   "outputs": [
    {
     "name": "stdout",
     "output_type": "stream",
     "text": [
      "<class 'pandas.core.frame.DataFrame'>\n",
      "RangeIndex: 14825 entries, 0 to 14824\n",
      "Data columns (total 5 columns):\n",
      " #   Column            Non-Null Count  Dtype  \n",
      "---  ------            --------------  -----  \n",
      " 0   gender            14825 non-null  object \n",
      " 1   age               14825 non-null  int64  \n",
      " 2   id                14825 non-null  object \n",
      " 3   became_member_on  14825 non-null  int64  \n",
      " 4   income            14825 non-null  float64\n",
      "dtypes: float64(1), int64(2), object(2)\n",
      "memory usage: 579.2+ KB\n"
     ]
    }
   ],
   "source": [
    "df_customer_no_na.info()"
   ]
  },
  {
   "cell_type": "code",
   "execution_count": 15,
   "metadata": {},
   "outputs": [
    {
     "data": {
      "text/html": [
       "<div>\n",
       "<style scoped>\n",
       "    .dataframe tbody tr th:only-of-type {\n",
       "        vertical-align: middle;\n",
       "    }\n",
       "\n",
       "    .dataframe tbody tr th {\n",
       "        vertical-align: top;\n",
       "    }\n",
       "\n",
       "    .dataframe thead th {\n",
       "        text-align: right;\n",
       "    }\n",
       "</style>\n",
       "<table border=\"1\" class=\"dataframe\">\n",
       "  <thead>\n",
       "    <tr style=\"text-align: right;\">\n",
       "      <th></th>\n",
       "      <th>gender</th>\n",
       "      <th>age</th>\n",
       "      <th>id</th>\n",
       "      <th>became_member_on</th>\n",
       "      <th>income</th>\n",
       "    </tr>\n",
       "  </thead>\n",
       "  <tbody>\n",
       "    <tr>\n",
       "      <th>0</th>\n",
       "      <td>F</td>\n",
       "      <td>55</td>\n",
       "      <td>0610b486422d4921ae7d2bf64640c50b</td>\n",
       "      <td>2017-07-15</td>\n",
       "      <td>112000.0</td>\n",
       "    </tr>\n",
       "    <tr>\n",
       "      <th>1</th>\n",
       "      <td>F</td>\n",
       "      <td>75</td>\n",
       "      <td>78afa995795e4d85b5d9ceeca43f5fef</td>\n",
       "      <td>2017-05-09</td>\n",
       "      <td>100000.0</td>\n",
       "    </tr>\n",
       "    <tr>\n",
       "      <th>2</th>\n",
       "      <td>M</td>\n",
       "      <td>68</td>\n",
       "      <td>e2127556f4f64592b11af22de27a7932</td>\n",
       "      <td>2018-04-26</td>\n",
       "      <td>70000.0</td>\n",
       "    </tr>\n",
       "    <tr>\n",
       "      <th>3</th>\n",
       "      <td>M</td>\n",
       "      <td>65</td>\n",
       "      <td>389bc3fa690240e798340f5a15918d5c</td>\n",
       "      <td>2018-02-09</td>\n",
       "      <td>53000.0</td>\n",
       "    </tr>\n",
       "    <tr>\n",
       "      <th>4</th>\n",
       "      <td>M</td>\n",
       "      <td>58</td>\n",
       "      <td>2eeac8d8feae4a8cad5a6af0499a211d</td>\n",
       "      <td>2017-11-11</td>\n",
       "      <td>51000.0</td>\n",
       "    </tr>\n",
       "  </tbody>\n",
       "</table>\n",
       "</div>"
      ],
      "text/plain": [
       "  gender  age                                id became_member_on    income\n",
       "0      F   55  0610b486422d4921ae7d2bf64640c50b       2017-07-15  112000.0\n",
       "1      F   75  78afa995795e4d85b5d9ceeca43f5fef       2017-05-09  100000.0\n",
       "2      M   68  e2127556f4f64592b11af22de27a7932       2018-04-26   70000.0\n",
       "3      M   65  389bc3fa690240e798340f5a15918d5c       2018-02-09   53000.0\n",
       "4      M   58  2eeac8d8feae4a8cad5a6af0499a211d       2017-11-11   51000.0"
      ]
     },
     "execution_count": 15,
     "metadata": {},
     "output_type": "execute_result"
    }
   ],
   "source": [
    "df_customer_no_na['became_member_on'] = pd.to_datetime(df_customer_no_na['became_member_on'], format = '%Y%m%d')\n",
    "df_customer_no_na.head()"
   ]
  },
  {
   "cell_type": "code",
   "execution_count": 16,
   "metadata": {
    "colab": {
     "base_uri": "https://localhost:8080/"
    },
    "executionInfo": {
     "elapsed": 16,
     "status": "ok",
     "timestamp": 1702472119775,
     "user": {
      "displayName": "謝東睿",
      "userId": "05959258176489999299"
     },
     "user_tz": -480
    },
    "id": "DVJeS4Zf0o8N",
    "outputId": "733a8d81-95ce-4258-b866-cfa9aa9fcbec"
   },
   "outputs": [
    {
     "name": "stdout",
     "output_type": "stream",
     "text": [
      "<class 'pandas.core.frame.DataFrame'>\n",
      "RangeIndex: 306534 entries, 0 to 306533\n",
      "Data columns (total 4 columns):\n",
      " #   Column  Non-Null Count   Dtype \n",
      "---  ------  --------------   ----- \n",
      " 0   person  306534 non-null  object\n",
      " 1   event   306534 non-null  object\n",
      " 2   value   306534 non-null  object\n",
      " 3   time    306534 non-null  int64 \n",
      "dtypes: int64(1), object(3)\n",
      "memory usage: 9.4+ MB\n"
     ]
    }
   ],
   "source": [
    "df_transcript.info()"
   ]
  },
  {
   "cell_type": "code",
   "execution_count": 17,
   "metadata": {},
   "outputs": [
    {
     "data": {
      "text/html": [
       "<div>\n",
       "<style scoped>\n",
       "    .dataframe tbody tr th:only-of-type {\n",
       "        vertical-align: middle;\n",
       "    }\n",
       "\n",
       "    .dataframe tbody tr th {\n",
       "        vertical-align: top;\n",
       "    }\n",
       "\n",
       "    .dataframe thead th {\n",
       "        text-align: right;\n",
       "    }\n",
       "</style>\n",
       "<table border=\"1\" class=\"dataframe\">\n",
       "  <thead>\n",
       "    <tr style=\"text-align: right;\">\n",
       "      <th></th>\n",
       "      <th>person</th>\n",
       "      <th>event</th>\n",
       "      <th>value</th>\n",
       "      <th>hours_since_start</th>\n",
       "    </tr>\n",
       "  </thead>\n",
       "  <tbody>\n",
       "    <tr>\n",
       "      <th>0</th>\n",
       "      <td>78afa995795e4d85b5d9ceeca43f5fef</td>\n",
       "      <td>offer received</td>\n",
       "      <td>{'offer id': '9b98b8c7a33c4b65b9aebfe6a799e6d9'}</td>\n",
       "      <td>0</td>\n",
       "    </tr>\n",
       "  </tbody>\n",
       "</table>\n",
       "</div>"
      ],
      "text/plain": [
       "                             person           event  \\\n",
       "0  78afa995795e4d85b5d9ceeca43f5fef  offer received   \n",
       "\n",
       "                                              value  hours_since_start  \n",
       "0  {'offer id': '9b98b8c7a33c4b65b9aebfe6a799e6d9'}                  0  "
      ]
     },
     "execution_count": 17,
     "metadata": {},
     "output_type": "execute_result"
    }
   ],
   "source": [
    "#time欄位改名方便檢視\n",
    "df_transcript.rename(columns = {'time' : 'hours_since_start'}, inplace = True)\n",
    "df_transcript.head(1)"
   ]
  },
  {
   "cell_type": "code",
   "execution_count": 18,
   "metadata": {},
   "outputs": [
    {
     "data": {
      "text/plain": [
       "dict"
      ]
     },
     "execution_count": 18,
     "metadata": {},
     "output_type": "execute_result"
    }
   ],
   "source": [
    "type(df_transcript['value'][0])"
   ]
  },
  {
   "cell_type": "markdown",
   "metadata": {},
   "source": [
    "<h2>Data transformation"
   ]
  },
  {
   "cell_type": "code",
   "execution_count": 19,
   "metadata": {},
   "outputs": [
    {
     "data": {
      "text/html": [
       "<div>\n",
       "<style scoped>\n",
       "    .dataframe tbody tr th:only-of-type {\n",
       "        vertical-align: middle;\n",
       "    }\n",
       "\n",
       "    .dataframe tbody tr th {\n",
       "        vertical-align: top;\n",
       "    }\n",
       "\n",
       "    .dataframe thead th {\n",
       "        text-align: right;\n",
       "    }\n",
       "</style>\n",
       "<table border=\"1\" class=\"dataframe\">\n",
       "  <thead>\n",
       "    <tr style=\"text-align: right;\">\n",
       "      <th></th>\n",
       "      <th>reward</th>\n",
       "      <th>channels</th>\n",
       "      <th>difficulty</th>\n",
       "      <th>duration</th>\n",
       "      <th>offer_type</th>\n",
       "      <th>id</th>\n",
       "      <th>offer_alias</th>\n",
       "    </tr>\n",
       "  </thead>\n",
       "  <tbody>\n",
       "    <tr>\n",
       "      <th>0</th>\n",
       "      <td>5</td>\n",
       "      <td>[web, email, mobile]</td>\n",
       "      <td>5</td>\n",
       "      <td>7</td>\n",
       "      <td>bogo</td>\n",
       "      <td>9b98b8c7a33c4b65b9aebfe6a799e6d9</td>\n",
       "      <td>A</td>\n",
       "    </tr>\n",
       "    <tr>\n",
       "      <th>1</th>\n",
       "      <td>5</td>\n",
       "      <td>[web, email, mobile, social]</td>\n",
       "      <td>5</td>\n",
       "      <td>5</td>\n",
       "      <td>bogo</td>\n",
       "      <td>f19421c1d4aa40978ebb69ca19b0e20d</td>\n",
       "      <td>B</td>\n",
       "    </tr>\n",
       "    <tr>\n",
       "      <th>2</th>\n",
       "      <td>10</td>\n",
       "      <td>[email, mobile, social]</td>\n",
       "      <td>10</td>\n",
       "      <td>7</td>\n",
       "      <td>bogo</td>\n",
       "      <td>ae264e3637204a6fb9bb56bc8210ddfd</td>\n",
       "      <td>C</td>\n",
       "    </tr>\n",
       "    <tr>\n",
       "      <th>3</th>\n",
       "      <td>10</td>\n",
       "      <td>[web, email, mobile, social]</td>\n",
       "      <td>10</td>\n",
       "      <td>5</td>\n",
       "      <td>bogo</td>\n",
       "      <td>4d5c57ea9a6940dd891ad53e9dbe8da0</td>\n",
       "      <td>D</td>\n",
       "    </tr>\n",
       "    <tr>\n",
       "      <th>4</th>\n",
       "      <td>3</td>\n",
       "      <td>[web, email, mobile, social]</td>\n",
       "      <td>7</td>\n",
       "      <td>7</td>\n",
       "      <td>discount</td>\n",
       "      <td>2298d6c36e964ae4a3e7e9706d1fb8c2</td>\n",
       "      <td>E</td>\n",
       "    </tr>\n",
       "    <tr>\n",
       "      <th>5</th>\n",
       "      <td>2</td>\n",
       "      <td>[web, email, mobile, social]</td>\n",
       "      <td>10</td>\n",
       "      <td>10</td>\n",
       "      <td>discount</td>\n",
       "      <td>fafdcd668e3743c1bb461111dcafc2a4</td>\n",
       "      <td>F</td>\n",
       "    </tr>\n",
       "    <tr>\n",
       "      <th>6</th>\n",
       "      <td>2</td>\n",
       "      <td>[web, email, mobile]</td>\n",
       "      <td>10</td>\n",
       "      <td>7</td>\n",
       "      <td>discount</td>\n",
       "      <td>2906b810c7d4411798c6938adc9daaa5</td>\n",
       "      <td>G</td>\n",
       "    </tr>\n",
       "    <tr>\n",
       "      <th>7</th>\n",
       "      <td>5</td>\n",
       "      <td>[web, email]</td>\n",
       "      <td>20</td>\n",
       "      <td>10</td>\n",
       "      <td>discount</td>\n",
       "      <td>0b1e1539f2cc45b7b9fa7c272da2e1d7</td>\n",
       "      <td>H</td>\n",
       "    </tr>\n",
       "    <tr>\n",
       "      <th>8</th>\n",
       "      <td>0</td>\n",
       "      <td>[web, email, mobile]</td>\n",
       "      <td>0</td>\n",
       "      <td>4</td>\n",
       "      <td>informational</td>\n",
       "      <td>3f207df678b143eea3cee63160fa8bed</td>\n",
       "      <td>I</td>\n",
       "    </tr>\n",
       "    <tr>\n",
       "      <th>9</th>\n",
       "      <td>0</td>\n",
       "      <td>[email, mobile, social]</td>\n",
       "      <td>0</td>\n",
       "      <td>3</td>\n",
       "      <td>informational</td>\n",
       "      <td>5a8bc65990b245e5a138643cd4eb9837</td>\n",
       "      <td>J</td>\n",
       "    </tr>\n",
       "  </tbody>\n",
       "</table>\n",
       "</div>"
      ],
      "text/plain": [
       "   reward                      channels  difficulty  duration     offer_type  \\\n",
       "0       5          [web, email, mobile]           5         7           bogo   \n",
       "1       5  [web, email, mobile, social]           5         5           bogo   \n",
       "2      10       [email, mobile, social]          10         7           bogo   \n",
       "3      10  [web, email, mobile, social]          10         5           bogo   \n",
       "4       3  [web, email, mobile, social]           7         7       discount   \n",
       "5       2  [web, email, mobile, social]          10        10       discount   \n",
       "6       2          [web, email, mobile]          10         7       discount   \n",
       "7       5                  [web, email]          20        10       discount   \n",
       "8       0          [web, email, mobile]           0         4  informational   \n",
       "9       0       [email, mobile, social]           0         3  informational   \n",
       "\n",
       "                                 id offer_alias  \n",
       "0  9b98b8c7a33c4b65b9aebfe6a799e6d9           A  \n",
       "1  f19421c1d4aa40978ebb69ca19b0e20d           B  \n",
       "2  ae264e3637204a6fb9bb56bc8210ddfd           C  \n",
       "3  4d5c57ea9a6940dd891ad53e9dbe8da0           D  \n",
       "4  2298d6c36e964ae4a3e7e9706d1fb8c2           E  \n",
       "5  fafdcd668e3743c1bb461111dcafc2a4           F  \n",
       "6  2906b810c7d4411798c6938adc9daaa5           G  \n",
       "7  0b1e1539f2cc45b7b9fa7c272da2e1d7           H  \n",
       "8  3f207df678b143eea3cee63160fa8bed           I  \n",
       "9  5a8bc65990b245e5a138643cd4eb9837           J  "
      ]
     },
     "execution_count": 19,
     "metadata": {},
     "output_type": "execute_result"
    }
   ],
   "source": [
    "#依照不同種優會券類型和低消重新排序並給予offer代碼方便往後檢視\n",
    "df_portfolio = df_portfolio.sort_values(['offer_type', 'difficulty']).reset_index(drop = True)\n",
    "\n",
    "from string import ascii_uppercase\n",
    "df_portfolio['offer_alias'] = [ascii_uppercase[i] for i in range(df_portfolio.shape[0])]\n",
    "df_portfolio"
   ]
  },
  {
   "cell_type": "code",
   "execution_count": 22,
   "metadata": {},
   "outputs": [
    {
     "data": {
      "text/html": [
       "<div>\n",
       "<style scoped>\n",
       "    .dataframe tbody tr th:only-of-type {\n",
       "        vertical-align: middle;\n",
       "    }\n",
       "\n",
       "    .dataframe tbody tr th {\n",
       "        vertical-align: top;\n",
       "    }\n",
       "\n",
       "    .dataframe thead th {\n",
       "        text-align: right;\n",
       "    }\n",
       "</style>\n",
       "<table border=\"1\" class=\"dataframe\">\n",
       "  <thead>\n",
       "    <tr style=\"text-align: right;\">\n",
       "      <th></th>\n",
       "      <th>dict_key</th>\n",
       "      <th>dict_value</th>\n",
       "    </tr>\n",
       "  </thead>\n",
       "  <tbody>\n",
       "    <tr>\n",
       "      <th>0</th>\n",
       "      <td>offer id</td>\n",
       "      <td>9b98b8c7a33c4b65b9aebfe6a799e6d9</td>\n",
       "    </tr>\n",
       "    <tr>\n",
       "      <th>1</th>\n",
       "      <td>offer id</td>\n",
       "      <td>0b1e1539f2cc45b7b9fa7c272da2e1d7</td>\n",
       "    </tr>\n",
       "    <tr>\n",
       "      <th>2</th>\n",
       "      <td>offer id</td>\n",
       "      <td>2906b810c7d4411798c6938adc9daaa5</td>\n",
       "    </tr>\n",
       "  </tbody>\n",
       "</table>\n",
       "</div>"
      ],
      "text/plain": [
       "   dict_key                        dict_value\n",
       "0  offer id  9b98b8c7a33c4b65b9aebfe6a799e6d9\n",
       "1  offer id  0b1e1539f2cc45b7b9fa7c272da2e1d7\n",
       "2  offer id  2906b810c7d4411798c6938adc9daaa5"
      ]
     },
     "execution_count": 22,
     "metadata": {},
     "output_type": "execute_result"
    }
   ],
   "source": [
    "# 把value的key跟值拆開\n",
    "value_column = df_transcript['value']\n",
    "dictionary_key_column = [list(d.keys())[0] for d in value_column]\n",
    "dictionary_value_column = [list(d.values())[0] for d in value_column]\n",
    "value_column_split = pd.DataFrame(columns = ['dict_key', 'dict_value'])\n",
    "value_column_split['dict_key'] = dictionary_key_column\n",
    "value_column_split['dict_value'] = dictionary_value_column\n",
    "value_column_split.head(3)"
   ]
  },
  {
   "cell_type": "code",
   "execution_count": 23,
   "metadata": {},
   "outputs": [],
   "source": [
    "# 移除原本value欄位\n",
    "df_transcript_value_dic = df_transcript.drop('value', axis = 1)\n",
    "df_transcript_value_dic = pd.concat([df_transcript_value_dic, value_column_split], axis = 1)"
   ]
  },
  {
   "cell_type": "code",
   "execution_count": 24,
   "metadata": {},
   "outputs": [
    {
     "data": {
      "text/plain": [
       "array(['person', 'event', 'hours_since_start', 'dict_key', 'dict_value'],\n",
       "      dtype=object)"
      ]
     },
     "execution_count": 24,
     "metadata": {},
     "output_type": "execute_result"
    }
   ],
   "source": [
    "df_transcript_value_dic.columns.values"
   ]
  },
  {
   "cell_type": "code",
   "execution_count": 25,
   "metadata": {},
   "outputs": [
    {
     "data": {
      "text/html": [
       "<div>\n",
       "<style scoped>\n",
       "    .dataframe tbody tr th:only-of-type {\n",
       "        vertical-align: middle;\n",
       "    }\n",
       "\n",
       "    .dataframe tbody tr th {\n",
       "        vertical-align: top;\n",
       "    }\n",
       "\n",
       "    .dataframe thead th {\n",
       "        text-align: right;\n",
       "    }\n",
       "</style>\n",
       "<table border=\"1\" class=\"dataframe\">\n",
       "  <thead>\n",
       "    <tr style=\"text-align: right;\">\n",
       "      <th></th>\n",
       "      <th>person</th>\n",
       "      <th>event</th>\n",
       "      <th>dict_key</th>\n",
       "      <th>dict_value</th>\n",
       "      <th>hours_since_start</th>\n",
       "    </tr>\n",
       "  </thead>\n",
       "  <tbody>\n",
       "    <tr>\n",
       "      <th>160667</th>\n",
       "      <td>7737b85f7f5e4b2c8b7d9003015c73d4</td>\n",
       "      <td>offer received</td>\n",
       "      <td>offer id</td>\n",
       "      <td>fafdcd668e3743c1bb461111dcafc2a4</td>\n",
       "      <td>408</td>\n",
       "    </tr>\n",
       "    <tr>\n",
       "      <th>51012</th>\n",
       "      <td>fb16abdfaa1d421d9e11f1ac5c8e80df</td>\n",
       "      <td>transaction</td>\n",
       "      <td>amount</td>\n",
       "      <td>0.43</td>\n",
       "      <td>150</td>\n",
       "    </tr>\n",
       "    <tr>\n",
       "      <th>93907</th>\n",
       "      <td>cce987c57eba4b32a095ac462d709db4</td>\n",
       "      <td>transaction</td>\n",
       "      <td>amount</td>\n",
       "      <td>21.43</td>\n",
       "      <td>246</td>\n",
       "    </tr>\n",
       "  </tbody>\n",
       "</table>\n",
       "</div>"
      ],
      "text/plain": [
       "                                  person           event  dict_key  \\\n",
       "160667  7737b85f7f5e4b2c8b7d9003015c73d4  offer received  offer id   \n",
       "51012   fb16abdfaa1d421d9e11f1ac5c8e80df     transaction    amount   \n",
       "93907   cce987c57eba4b32a095ac462d709db4     transaction    amount   \n",
       "\n",
       "                              dict_value  hours_since_start  \n",
       "160667  fafdcd668e3743c1bb461111dcafc2a4                408  \n",
       "51012                               0.43                150  \n",
       "93907                              21.43                246  "
      ]
     },
     "execution_count": 25,
     "metadata": {},
     "output_type": "execute_result"
    }
   ],
   "source": [
    "#把跟offer有關的欄位(dict_key,dict_value往前移\n",
    "col_names = ['person', 'event', 'dict_key', 'dict_value', 'hours_since_start']\n",
    "df_transcript_value_dic = df_transcript_value_dic[col_names]\n",
    "df_transcript_value_dic.sample(3)"
   ]
  },
  {
   "cell_type": "code",
   "execution_count": 26,
   "metadata": {},
   "outputs": [],
   "source": [
    "portfolio = df_portfolio.copy()\n",
    "customers = df_customer_no_na.copy()\n",
    "transcripts = df_transcript_value_dic.copy()"
   ]
  },
  {
   "cell_type": "markdown",
   "metadata": {},
   "source": [
    "<H2>Data analysis"
   ]
  },
  {
   "cell_type": "markdown",
   "metadata": {},
   "source": [
    "# 1. 優惠券怎麼發才能帶來效益?"
   ]
  },
  {
   "cell_type": "code",
   "execution_count": 27,
   "metadata": {},
   "outputs": [
    {
     "data": {
      "text/plain": [
       "event\n",
       "transaction        138953\n",
       "offer received      76277\n",
       "offer viewed        57725\n",
       "offer completed     33579\n",
       "Name: count, dtype: int64"
      ]
     },
     "execution_count": 27,
     "metadata": {},
     "output_type": "execute_result"
    }
   ],
   "source": [
    "transcripts['event'].value_counts()"
   ]
  },
  {
   "cell_type": "code",
   "execution_count": 28,
   "metadata": {},
   "outputs": [
    {
     "data": {
      "image/png": "[encoded data removed]",
      "text/plain": [
       "<Figure size 700x500 with 1 Axes>"
      ]
     },
     "metadata": {},
     "output_type": "display_data"
    }
   ],
   "source": [
    "fig = plt.figure(figsize = (7,5))\n",
    "transcripts['event'].value_counts().plot(kind = 'bar')\n",
    "plt.xticks(rotation = None)\n",
    "plt.ylabel('Count')\n",
    "plt.title('Event counts', fontsize = 13)\n",
    "plt.show()"
   ]
  },
  {
   "cell_type": "markdown",
   "metadata": {},
   "source": [
    "<b>Finding<b>\n",
    "<li>transaction是completed的四倍左右\n",
    "<li>大約有33,600 offer completions, offers viewed 佔 58% ,offers received佔 44%\n",
    "<p>-> 可推估星巴克會員的黏著度還算高"
   ]
  },
  {
   "cell_type": "code",
   "execution_count": 29,
   "metadata": {},
   "outputs": [
    {
     "name": "stdout",
     "output_type": "stream",
     "text": [
      "The minimum and the maximum of column days_since_start: 0 and 29\n"
     ]
    }
   ],
   "source": [
    "# 把交易時間新增用day表示的方式\n",
    "transcripts = transcripts.assign(days_since_start = transcripts['hours_since_start']/24).astype({'days_since_start': 'int64'})\n",
    "print('The minimum and the maximum of column days_since_start: {} and {}'.format(transcripts['days_since_start'].min(), transcripts['days_since_start'].max()))"
   ]
  },
  {
   "cell_type": "markdown",
   "metadata": {},
   "source": [
    "<p>資料集的campain活動約一個月"
   ]
  },
  {
   "cell_type": "code",
   "execution_count": 30,
   "metadata": {},
   "outputs": [
    {
     "data": {
      "text/html": [
       "<div>\n",
       "<style scoped>\n",
       "    .dataframe tbody tr th:only-of-type {\n",
       "        vertical-align: middle;\n",
       "    }\n",
       "\n",
       "    .dataframe tbody tr th {\n",
       "        vertical-align: top;\n",
       "    }\n",
       "\n",
       "    .dataframe thead th {\n",
       "        text-align: right;\n",
       "    }\n",
       "</style>\n",
       "<table border=\"1\" class=\"dataframe\">\n",
       "  <thead>\n",
       "    <tr style=\"text-align: right;\">\n",
       "      <th></th>\n",
       "      <th>person</th>\n",
       "      <th>event</th>\n",
       "      <th>dict_key</th>\n",
       "      <th>dict_value</th>\n",
       "      <th>hours_since_start</th>\n",
       "      <th>days_since_start</th>\n",
       "    </tr>\n",
       "  </thead>\n",
       "  <tbody>\n",
       "    <tr>\n",
       "      <th>0</th>\n",
       "      <td>78afa995795e4d85b5d9ceeca43f5fef</td>\n",
       "      <td>offer received</td>\n",
       "      <td>offer id</td>\n",
       "      <td>9b98b8c7a33c4b65b9aebfe6a799e6d9</td>\n",
       "      <td>0</td>\n",
       "      <td>0</td>\n",
       "    </tr>\n",
       "    <tr>\n",
       "      <th>1</th>\n",
       "      <td>a03223e636434f42ac4c3df47e8bac43</td>\n",
       "      <td>offer received</td>\n",
       "      <td>offer id</td>\n",
       "      <td>0b1e1539f2cc45b7b9fa7c272da2e1d7</td>\n",
       "      <td>0</td>\n",
       "      <td>0</td>\n",
       "    </tr>\n",
       "    <tr>\n",
       "      <th>2</th>\n",
       "      <td>e2127556f4f64592b11af22de27a7932</td>\n",
       "      <td>offer received</td>\n",
       "      <td>offer id</td>\n",
       "      <td>2906b810c7d4411798c6938adc9daaa5</td>\n",
       "      <td>0</td>\n",
       "      <td>0</td>\n",
       "    </tr>\n",
       "    <tr>\n",
       "      <th>3</th>\n",
       "      <td>8ec6ce2a7e7949b1bf142def7d0e0586</td>\n",
       "      <td>offer received</td>\n",
       "      <td>offer id</td>\n",
       "      <td>fafdcd668e3743c1bb461111dcafc2a4</td>\n",
       "      <td>0</td>\n",
       "      <td>0</td>\n",
       "    </tr>\n",
       "    <tr>\n",
       "      <th>4</th>\n",
       "      <td>68617ca6246f4fbc85e91a2a49552598</td>\n",
       "      <td>offer received</td>\n",
       "      <td>offer id</td>\n",
       "      <td>4d5c57ea9a6940dd891ad53e9dbe8da0</td>\n",
       "      <td>0</td>\n",
       "      <td>0</td>\n",
       "    </tr>\n",
       "  </tbody>\n",
       "</table>\n",
       "</div>"
      ],
      "text/plain": [
       "                             person           event  dict_key  \\\n",
       "0  78afa995795e4d85b5d9ceeca43f5fef  offer received  offer id   \n",
       "1  a03223e636434f42ac4c3df47e8bac43  offer received  offer id   \n",
       "2  e2127556f4f64592b11af22de27a7932  offer received  offer id   \n",
       "3  8ec6ce2a7e7949b1bf142def7d0e0586  offer received  offer id   \n",
       "4  68617ca6246f4fbc85e91a2a49552598  offer received  offer id   \n",
       "\n",
       "                         dict_value  hours_since_start  days_since_start  \n",
       "0  9b98b8c7a33c4b65b9aebfe6a799e6d9                  0                 0  \n",
       "1  0b1e1539f2cc45b7b9fa7c272da2e1d7                  0                 0  \n",
       "2  2906b810c7d4411798c6938adc9daaa5                  0                 0  \n",
       "3  fafdcd668e3743c1bb461111dcafc2a4                  0                 0  \n",
       "4  4d5c57ea9a6940dd891ad53e9dbe8da0                  0                 0  "
      ]
     },
     "execution_count": 30,
     "metadata": {},
     "output_type": "execute_result"
    }
   ],
   "source": [
    "transcripts.head()"
   ]
  },
  {
   "cell_type": "code",
   "execution_count": 31,
   "metadata": {},
   "outputs": [
    {
     "data": {
      "image/png": "[encoded data removed]",
      "text/plain": [
       "<Figure size 640x480 with 1 Axes>"
      ]
     },
     "metadata": {},
     "output_type": "display_data"
    }
   ],
   "source": [
    "plt.hist(transcripts['days_since_start'], bins = 30)\n",
    "plt.xlabel('Days', fontsize = 14)\n",
    "plt.ylabel('Events Count', fontsize = 14)\n",
    "plt.title('Events Occurrence over time', fontsize = 1)\n",
    "plt.show()"
   ]
  },
  {
   "cell_type": "markdown",
   "metadata": {},
   "source": [
    "<p>由圖表可以發現有6個高峰，推估應為發放優惠券的日期，其他瀏覽、兌換集完成交易的活動隨之在後"
   ]
  },
  {
   "cell_type": "code",
   "execution_count": 32,
   "metadata": {},
   "outputs": [
    {
     "data": {
      "text/html": [
       "<div>\n",
       "<style scoped>\n",
       "    .dataframe tbody tr th:only-of-type {\n",
       "        vertical-align: middle;\n",
       "    }\n",
       "\n",
       "    .dataframe tbody tr th {\n",
       "        vertical-align: top;\n",
       "    }\n",
       "\n",
       "    .dataframe thead th {\n",
       "        text-align: right;\n",
       "    }\n",
       "</style>\n",
       "<table border=\"1\" class=\"dataframe\">\n",
       "  <thead>\n",
       "    <tr style=\"text-align: right;\">\n",
       "      <th></th>\n",
       "      <th>person</th>\n",
       "      <th>event</th>\n",
       "      <th>dict_key</th>\n",
       "      <th>dict_value</th>\n",
       "      <th>days_since_start</th>\n",
       "    </tr>\n",
       "    <tr>\n",
       "      <th>hours_since_start</th>\n",
       "      <th></th>\n",
       "      <th></th>\n",
       "      <th></th>\n",
       "      <th></th>\n",
       "      <th></th>\n",
       "    </tr>\n",
       "  </thead>\n",
       "  <tbody>\n",
       "    <tr>\n",
       "      <th>0</th>\n",
       "      <td>12650</td>\n",
       "      <td>12650</td>\n",
       "      <td>12650</td>\n",
       "      <td>12650</td>\n",
       "      <td>12650</td>\n",
       "    </tr>\n",
       "    <tr>\n",
       "      <th>168</th>\n",
       "      <td>12669</td>\n",
       "      <td>12669</td>\n",
       "      <td>12669</td>\n",
       "      <td>12669</td>\n",
       "      <td>12669</td>\n",
       "    </tr>\n",
       "    <tr>\n",
       "      <th>336</th>\n",
       "      <td>12711</td>\n",
       "      <td>12711</td>\n",
       "      <td>12711</td>\n",
       "      <td>12711</td>\n",
       "      <td>12711</td>\n",
       "    </tr>\n",
       "    <tr>\n",
       "      <th>408</th>\n",
       "      <td>12778</td>\n",
       "      <td>12778</td>\n",
       "      <td>12778</td>\n",
       "      <td>12778</td>\n",
       "      <td>12778</td>\n",
       "    </tr>\n",
       "    <tr>\n",
       "      <th>504</th>\n",
       "      <td>12704</td>\n",
       "      <td>12704</td>\n",
       "      <td>12704</td>\n",
       "      <td>12704</td>\n",
       "      <td>12704</td>\n",
       "    </tr>\n",
       "    <tr>\n",
       "      <th>576</th>\n",
       "      <td>12765</td>\n",
       "      <td>12765</td>\n",
       "      <td>12765</td>\n",
       "      <td>12765</td>\n",
       "      <td>12765</td>\n",
       "    </tr>\n",
       "  </tbody>\n",
       "</table>\n",
       "</div>"
      ],
      "text/plain": [
       "                   person  event  dict_key  dict_value  days_since_start\n",
       "hours_since_start                                                       \n",
       "0                   12650  12650     12650       12650             12650\n",
       "168                 12669  12669     12669       12669             12669\n",
       "336                 12711  12711     12711       12711             12711\n",
       "408                 12778  12778     12778       12778             12778\n",
       "504                 12704  12704     12704       12704             12704\n",
       "576                 12765  12765     12765       12765             12765"
      ]
     },
     "execution_count": 32,
     "metadata": {},
     "output_type": "execute_result"
    }
   ],
   "source": [
    "transcripts[transcripts['event'] == 'offer received'].groupby('hours_since_start').count()"
   ]
  },
  {
   "cell_type": "markdown",
   "metadata": {},
   "source": [
    "<p>用groupby方式證實確實有六個高峰點收到優惠券，接下來繼續分析其他event的發生的時間點"
   ]
  },
  {
   "cell_type": "code",
   "execution_count": 33,
   "metadata": {},
   "outputs": [
    {
     "name": "stdout",
     "output_type": "stream",
     "text": [
      "120 120 120\n"
     ]
    }
   ],
   "source": [
    "#看每一小時有多少event發生\n",
    "viewed_hourly = transcripts[transcripts['event'] == 'offer viewed'].value_counts('hours_since_start').sort_index()\n",
    "completed_hourly = transcripts[transcripts['event'] == 'offer completed'].value_counts('hours_since_start').sort_index()\n",
    "transaction_hourly = transcripts[transcripts['event'] == 'transaction'].value_counts('hours_since_start').sort_index()\n",
    "print(len(viewed_hourly), len(completed_hourly), len(transaction_hourly))"
   ]
  },
  {
   "cell_type": "markdown",
   "metadata": {},
   "source": [
    "<p>都是120筆，表示三個event是能夠對照起來的，因為campain起始點發放時間都是第0小時"
   ]
  },
  {
   "cell_type": "code",
   "execution_count": 34,
   "metadata": {},
   "outputs": [
    {
     "data": {
      "text/plain": [
       "120"
      ]
     },
     "execution_count": 34,
     "metadata": {},
     "output_type": "execute_result"
    }
   ],
   "source": [
    "#二次驗證\n",
    "(viewed_hourly.index.values == completed_hourly.index.values).sum(),\n",
    "(completed_hourly.index.values == transaction_hourly.index.values).sum()"
   ]
  },
  {
   "cell_type": "code",
   "execution_count": 35,
   "metadata": {},
   "outputs": [],
   "source": [
    "# 每一天分別有幾筆活動\n",
    "received_hourly = transcripts[transcripts['event'] == 'offer received'].value_counts('hours_since_start').sort_index()\n",
    "received_daily = transcripts[transcripts['event'] == 'offer received'].value_counts('days_since_start').sort_index()\n",
    "viewed_daily = transcripts[transcripts['event'] == 'offer viewed'].value_counts('days_since_start').sort_index()\n",
    "completed_daily = transcripts[transcripts['event'] == 'offer completed'].value_counts('days_since_start').sort_index()\n",
    "transaction_daily = transcripts[transcripts['event'] == 'transaction'].value_counts('days_since_start').sort_index()"
   ]
  },
  {
   "cell_type": "code",
   "execution_count": 36,
   "metadata": {},
   "outputs": [
    {
     "data": {
      "image/png": "[encoded data removed]",
      "text/plain": [
       "<Figure size 1400x500 with 2 Axes>"
      ]
     },
     "metadata": {},
     "output_type": "display_data"
    }
   ],
   "source": [
    "#用圖表把數字視覺化\n",
    "hours = viewed_hourly.index.values\n",
    "fig, axs = plt.subplots(1,2, figsize = (14, 5))\n",
    "axs[0].stem(received_hourly.index.values, received_hourly, linefmt = ':k')\n",
    "axs[0].plot(hours, viewed_hourly, lw = 3)\n",
    "axs[0].plot(hours, completed_hourly, lw = 3)\n",
    "axs[0].plot(hours, transaction_hourly, lw = 3)\n",
    "axs[0].legend(['Offer Viewed', 'Offer Completed', 'Transactions'], loc = 'upper right', ncol = 1, fontsize = 10)\n",
    "axs[0].set_ylim([0, 2750])\n",
    "axs[0].set_xlabel('Hours', fontsize = 16)\n",
    "axs[0].set_ylabel('Events Count', fontsize = 16)\n",
    "axs[0].set_title('Events Occurrence Hourly', fontsize = 18)\n",
    "\n",
    "days = np.arange(30)\n",
    "axs[1].stem(received_daily.index.values, received_daily, linefmt = ':k')\n",
    "axs[1].plot(days, viewed_daily, lw = 3)\n",
    "axs[1].plot(days, completed_daily, lw = 3)\n",
    "axs[1].plot(days, transaction_daily, lw = 3)\n",
    "axs[1].legend(['Offer Viewed', 'Offer Completed', 'Transactions'], loc = 'upper right', ncol = 1, fontsize = 10)\n",
    "axs[1].set_ylim([0, 7400])\n",
    "axs[1].set_xlabel('Days', fontsize = 16)\n",
    "axs[1].set_ylabel('Events Count', fontsize = 16)\n",
    "axs[1].set_title('Events Occurrence Daily', fontsize = 18)\n",
    "\n",
    "plt.show()"
   ]
  },
  {
   "cell_type": "markdown",
   "metadata": {},
   "source": [
    "<b>Finding\n",
    "\n",
    "<li>右手邊以「天」的折線圖可以發現Offer completion 高度相關於 offer viewing ，再用hours細看，則發現一樣相關但有非常短的延遲。表示大部分消費者傾向查看完優惠券後幾小時就做出兌換行為，也就是會在查看當天使用優惠券。\n",
    "<li>Transactions一樣有和其他兩個event相關，但有一點分散，不過有個有趣的發現是大概在每一次的viewed高峰時，offer completion會在幾小時內迅速達到高峰，transcation也會在約2天後達到高峰，這表示優惠券不僅帶來了顧客直接使用優惠的購買量（享受折扣或其他優惠），還有助於形成顧客的購買習慣（儘管個別優惠的持續時間較短）。"
   ]
  },
  {
   "cell_type": "markdown",
   "metadata": {},
   "source": [
    "# Insight："
   ]
  },
  {
   "cell_type": "markdown",
   "metadata": {},
   "source": [
    "<p>優惠券不只可以直接帶來收益且可以增加黏著度，但優惠券活動的效益是短暫的，因此星巴克應該以一定的頻率向顧客發送優惠券，以幫助形成他們的購買習慣，若是發送頻率太低，加總所有顧客的成本後將會造成可觀的行銷浪費。"
   ]
  },
  {
   "cell_type": "markdown",
   "metadata": {},
   "source": [
    "# 2. 用view rate 來看哪種優惠管道的推播效益比較好"
   ]
  },
  {
   "cell_type": "code",
   "execution_count": 37,
   "metadata": {},
   "outputs": [
    {
     "data": {
      "text/html": [
       "<div>\n",
       "<style scoped>\n",
       "    .dataframe tbody tr th:only-of-type {\n",
       "        vertical-align: middle;\n",
       "    }\n",
       "\n",
       "    .dataframe tbody tr th {\n",
       "        vertical-align: top;\n",
       "    }\n",
       "\n",
       "    .dataframe thead th {\n",
       "        text-align: right;\n",
       "    }\n",
       "</style>\n",
       "<table border=\"1\" class=\"dataframe\">\n",
       "  <thead>\n",
       "    <tr style=\"text-align: right;\">\n",
       "      <th></th>\n",
       "      <th>person</th>\n",
       "      <th>event</th>\n",
       "      <th>offer_alias</th>\n",
       "      <th>reward</th>\n",
       "      <th>channels</th>\n",
       "      <th>difficulty</th>\n",
       "      <th>duration</th>\n",
       "      <th>offer_type</th>\n",
       "      <th>hours_since_start</th>\n",
       "      <th>days_since_start</th>\n",
       "      <th>dict_key</th>\n",
       "    </tr>\n",
       "  </thead>\n",
       "  <tbody>\n",
       "    <tr>\n",
       "      <th>45739</th>\n",
       "      <td>c6a2cd4fdc104ea5896ac60300f6842d</td>\n",
       "      <td>offer received</td>\n",
       "      <td>F</td>\n",
       "      <td>2</td>\n",
       "      <td>[web, email, mobile, social]</td>\n",
       "      <td>10</td>\n",
       "      <td>10</td>\n",
       "      <td>discount</td>\n",
       "      <td>0</td>\n",
       "      <td>0</td>\n",
       "      <td>offer id</td>\n",
       "    </tr>\n",
       "    <tr>\n",
       "      <th>93591</th>\n",
       "      <td>e70d2311d88c41b8abd04bb3e3039e91</td>\n",
       "      <td>offer received</td>\n",
       "      <td>B</td>\n",
       "      <td>5</td>\n",
       "      <td>[web, email, mobile, social]</td>\n",
       "      <td>5</td>\n",
       "      <td>5</td>\n",
       "      <td>bogo</td>\n",
       "      <td>408</td>\n",
       "      <td>17</td>\n",
       "      <td>offer id</td>\n",
       "    </tr>\n",
       "    <tr>\n",
       "      <th>102617</th>\n",
       "      <td>b9d1a125fe14420181322874001f4fc9</td>\n",
       "      <td>offer completed</td>\n",
       "      <td>B</td>\n",
       "      <td>5</td>\n",
       "      <td>[web, email, mobile, social]</td>\n",
       "      <td>5</td>\n",
       "      <td>5</td>\n",
       "      <td>bogo</td>\n",
       "      <td>606</td>\n",
       "      <td>25</td>\n",
       "      <td>offer_id</td>\n",
       "    </tr>\n",
       "  </tbody>\n",
       "</table>\n",
       "</div>"
      ],
      "text/plain": [
       "                                  person            event offer_alias  reward  \\\n",
       "45739   c6a2cd4fdc104ea5896ac60300f6842d   offer received           F       2   \n",
       "93591   e70d2311d88c41b8abd04bb3e3039e91   offer received           B       5   \n",
       "102617  b9d1a125fe14420181322874001f4fc9  offer completed           B       5   \n",
       "\n",
       "                            channels  difficulty  duration offer_type  \\\n",
       "45739   [web, email, mobile, social]          10        10   discount   \n",
       "93591   [web, email, mobile, social]           5         5       bogo   \n",
       "102617  [web, email, mobile, social]           5         5       bogo   \n",
       "\n",
       "        hours_since_start  days_since_start  dict_key  \n",
       "45739                   0                 0  offer id  \n",
       "93591                 408                17  offer id  \n",
       "102617                606                25  offer_id  "
      ]
     },
     "execution_count": 37,
     "metadata": {},
     "output_type": "execute_result"
    }
   ],
   "source": [
    "#萃取和優惠券有關的列(offer_recieved,offer viewed,offer completed)\n",
    "df_event = transcripts[~(transcripts['event'] == 'transaction')]\n",
    "\n",
    "#把它跟portfolio資料表合併\n",
    "event_offer = pd.merge(df_event, portfolio, left_on = 'dict_value', right_on = 'id').drop('id', axis = 1)\n",
    "\n",
    "# 整理欄位順序\n",
    "col_names = ['person', 'event', 'offer_alias', 'reward',\n",
    "       'channels', 'difficulty', 'duration', 'offer_type', 'hours_since_start', 'days_since_start', 'dict_key', 'dict_value',]\n",
    "event_offer = event_offer[col_names]\n",
    "\n",
    "# 移除不重要欄位用offer_alias辦別offer即可\n",
    "event_offer = event_offer.drop('dict_value', axis = 1)\n",
    "event_offer.sample(3)"
   ]
  },
  {
   "cell_type": "code",
   "execution_count": 38,
   "metadata": {},
   "outputs": [],
   "source": [
    "#計算完成率\n",
    "offer_received = event_offer[event_offer['event'] == 'offer received']\n",
    "p0 = offer_received.value_counts('offer_alias').sort_values(ascending = False)\n",
    "\n",
    "offer_completed = event_offer[event_offer['event'] == 'offer completed']\n",
    "p2 = offer_completed.value_counts('offer_alias').sort_values(ascending = False)"
   ]
  },
  {
   "cell_type": "code",
   "execution_count": 39,
   "metadata": {},
   "outputs": [
    {
     "data": {
      "image/png": "[encoded data removed]",
      "text/plain": [
       "<Figure size 640x480 with 1 Axes>"
      ]
     },
     "metadata": {},
     "output_type": "display_data"
    }
   ],
   "source": [
    "overall_complete_rate = (p2.sort_index() / p0.sort_index()).sort_values(ascending = False)\n",
    "\n",
    "plt.bar(x = overall_complete_rate.index.values, height = overall_complete_rate.values)\n",
    "plt.title('Overall Complete Rate %', fontsize = 16)\n",
    "plt.xlabel('Offer', fontsize = 13)\n",
    "plt.ylabel('Percentage', fontsize = 13)\n",
    "plt.yticks(np.arange(0,1.2, 0.2), labels = ['0%','20%', '40%', '60%', '80%', '100%'])\n",
    "plt.show()"
   ]
  },
  {
   "cell_type": "markdown",
   "metadata": {},
   "source": [
    "<p>優惠券I,J型態是Information，所以沒有完成率可言"
   ]
  },
  {
   "cell_type": "code",
   "execution_count": 40,
   "metadata": {},
   "outputs": [
    {
     "name": "stdout",
     "output_type": "stream",
     "text": [
      "offer_alias\n",
      "A    7677\n",
      "H    7668\n",
      "C    7658\n",
      "E    7646\n",
      "G    7632\n",
      "J    7618\n",
      "I    7617\n",
      "F    7597\n",
      "D    7593\n",
      "B    7571\n",
      "Name: count, dtype: int64\n"
     ]
    }
   ],
   "source": [
    "offer_received = event_offer[event_offer['event'] == 'offer received']\n",
    "p0 = offer_received.value_counts('offer_alias').sort_values(ascending = False)\n",
    "print(p0)"
   ]
  },
  {
   "cell_type": "markdown",
   "metadata": {},
   "source": [
    "<p>在資料集的行銷活動中，每種優惠券大約都是7600次發送。前面的分析有題到行銷活動一輪約6天進行一個月，在分析 view rate以前，先檢查所有客戶是否按一定順序收到優惠券，因會收到的順序可能會影響回應與否，這會導致 view rate和completion rate的偏差。"
   ]
  },
  {
   "cell_type": "code",
   "execution_count": 41,
   "metadata": {},
   "outputs": [
    {
     "data": {
      "image/png": "[encoded data removed]",
      "text/plain": [
       "<Figure size 800x500 with 1 Axes>"
      ]
     },
     "metadata": {},
     "output_type": "display_data"
    }
   ],
   "source": [
    "num_offers = portfolio.shape[0]\n",
    "each_offer_received = pd.DataFrame(index = received_daily.index.values)\n",
    "for col in ascii_uppercase[:num_offers]:\n",
    "    each_offer_received[col] = offer_received[offer_received['offer_alias'] == col].value_counts('days_since_start').sort_index()\n",
    "each_offer_received.index = ['Day' + str(x) for x in received_daily.index.values]\n",
    "\n",
    "fig = plt.figure(figsize = (8, 5))\n",
    "ax = fig.add_axes((0.1, 0.1, 0.8, 0.8))\n",
    "for col in ascii_uppercase[:num_offers]:\n",
    "    ax.plot(np.arange(6), each_offer_received[col])\n",
    "    \n",
    "ax.set_ylim([1000,1600])\n",
    "ax.set_xticks(np.arange(6))\n",
    "ax.set_xticklabels(each_offer_received.index.values)\n",
    "ax.set_xlabel('Time', fontsize = 15)\n",
    "ax.set_ylabel('Count', fontsize = 15)\n",
    "legend_str = ['Offer ' + i for i in ascii_uppercase[:num_offers]]\n",
    "plt.legend(legend_str, loc = 'upper center', ncol = 5, fontsize = 10)\n",
    "plt.title('Offers Recieved Over Time', fontsize = 18)\n",
    "plt.show()"
   ]
  },
  {
   "cell_type": "markdown",
   "metadata": {},
   "source": [
    "<P>每種優惠券在第0,7,14,17,21,24 接收的數量都差不多，因此可以避免都偏差。"
   ]
  },
  {
   "cell_type": "code",
   "execution_count": 42,
   "metadata": {},
   "outputs": [
    {
     "data": {
      "image/png": "[encoded data removed]",
      "text/plain": [
       "<Figure size 640x480 with 1 Axes>"
      ]
     },
     "metadata": {},
     "output_type": "display_data"
    }
   ],
   "source": [
    "offer_viewed = event_offer[event_offer['event'] == 'offer viewed']\n",
    "p1 = offer_viewed.value_counts('offer_alias').sort_values(ascending = False)\n",
    "p1_rate = (p1.sort_index() / p0.sort_index()).sort_values(ascending = False)\n",
    "plt.bar(x = np.arange(len(p1)), height = p1_rate.values, tick_label = p1_rate.index.values,\n",
    "       color = ['blue', 'blue','blue', 'blue', 'dodgerblue', 'dodgerblue','cornflowerblue', 'cornflowerblue', 'cornflowerblue', 'lightsteelblue'])\n",
    "plt.title('View Rate %', fontsize = 18)\n",
    "plt.xlabel('Offer', fontsize = 15)\n",
    "plt.ylabel('Percentage', fontsize = 15)\n",
    "plt.yticks(np.arange(0,1.2, 0.2), labels = ['0%', '20%', '40%', '60%', '80%', '100%'])\n",
    "plt.show()"
   ]
  },
  {
   "cell_type": "code",
   "execution_count": 43,
   "metadata": {},
   "outputs": [
    {
     "data": {
      "text/plain": [
       "offer_alias\n",
       "F    0.964460\n",
       "D    0.961148\n",
       "E    0.959587\n",
       "B    0.959451\n",
       "J    0.877789\n",
       "C    0.876991\n",
       "I    0.544046\n",
       "A    0.543311\n",
       "G    0.539570\n",
       "H    0.347287\n",
       "Name: count, dtype: float64"
      ]
     },
     "execution_count": 43,
     "metadata": {},
     "output_type": "execute_result"
    }
   ],
   "source": [
    "p1_rate"
   ]
  },
  {
   "cell_type": "code",
   "execution_count": 44,
   "metadata": {},
   "outputs": [
    {
     "data": {
      "text/html": [
       "<div>\n",
       "<style scoped>\n",
       "    .dataframe tbody tr th:only-of-type {\n",
       "        vertical-align: middle;\n",
       "    }\n",
       "\n",
       "    .dataframe tbody tr th {\n",
       "        vertical-align: top;\n",
       "    }\n",
       "\n",
       "    .dataframe thead th {\n",
       "        text-align: right;\n",
       "    }\n",
       "</style>\n",
       "<table border=\"1\" class=\"dataframe\">\n",
       "  <thead>\n",
       "    <tr style=\"text-align: right;\">\n",
       "      <th></th>\n",
       "      <th>group</th>\n",
       "      <th>reward</th>\n",
       "      <th>channels</th>\n",
       "      <th>difficulty</th>\n",
       "      <th>duration</th>\n",
       "      <th>offer_type</th>\n",
       "      <th>id</th>\n",
       "      <th>offer_alias</th>\n",
       "    </tr>\n",
       "  </thead>\n",
       "  <tbody>\n",
       "    <tr>\n",
       "      <th>0</th>\n",
       "      <td>Group1</td>\n",
       "      <td>5</td>\n",
       "      <td>[web, email, mobile, social]</td>\n",
       "      <td>5</td>\n",
       "      <td>5</td>\n",
       "      <td>bogo</td>\n",
       "      <td>f19421c1d4aa40978ebb69ca19b0e20d</td>\n",
       "      <td>B</td>\n",
       "    </tr>\n",
       "    <tr>\n",
       "      <th>1</th>\n",
       "      <td>Group1</td>\n",
       "      <td>10</td>\n",
       "      <td>[web, email, mobile, social]</td>\n",
       "      <td>10</td>\n",
       "      <td>5</td>\n",
       "      <td>bogo</td>\n",
       "      <td>4d5c57ea9a6940dd891ad53e9dbe8da0</td>\n",
       "      <td>D</td>\n",
       "    </tr>\n",
       "    <tr>\n",
       "      <th>2</th>\n",
       "      <td>Group1</td>\n",
       "      <td>3</td>\n",
       "      <td>[web, email, mobile, social]</td>\n",
       "      <td>7</td>\n",
       "      <td>7</td>\n",
       "      <td>discount</td>\n",
       "      <td>2298d6c36e964ae4a3e7e9706d1fb8c2</td>\n",
       "      <td>E</td>\n",
       "    </tr>\n",
       "    <tr>\n",
       "      <th>3</th>\n",
       "      <td>Group1</td>\n",
       "      <td>2</td>\n",
       "      <td>[web, email, mobile, social]</td>\n",
       "      <td>10</td>\n",
       "      <td>10</td>\n",
       "      <td>discount</td>\n",
       "      <td>fafdcd668e3743c1bb461111dcafc2a4</td>\n",
       "      <td>F</td>\n",
       "    </tr>\n",
       "    <tr>\n",
       "      <th>4</th>\n",
       "      <td>Group2</td>\n",
       "      <td>10</td>\n",
       "      <td>[email, mobile, social]</td>\n",
       "      <td>10</td>\n",
       "      <td>7</td>\n",
       "      <td>bogo</td>\n",
       "      <td>ae264e3637204a6fb9bb56bc8210ddfd</td>\n",
       "      <td>C</td>\n",
       "    </tr>\n",
       "    <tr>\n",
       "      <th>5</th>\n",
       "      <td>Group2</td>\n",
       "      <td>0</td>\n",
       "      <td>[email, mobile, social]</td>\n",
       "      <td>0</td>\n",
       "      <td>3</td>\n",
       "      <td>informational</td>\n",
       "      <td>5a8bc65990b245e5a138643cd4eb9837</td>\n",
       "      <td>J</td>\n",
       "    </tr>\n",
       "    <tr>\n",
       "      <th>6</th>\n",
       "      <td>Gruop3</td>\n",
       "      <td>5</td>\n",
       "      <td>[web, email, mobile]</td>\n",
       "      <td>5</td>\n",
       "      <td>7</td>\n",
       "      <td>bogo</td>\n",
       "      <td>9b98b8c7a33c4b65b9aebfe6a799e6d9</td>\n",
       "      <td>A</td>\n",
       "    </tr>\n",
       "    <tr>\n",
       "      <th>7</th>\n",
       "      <td>Gruop3</td>\n",
       "      <td>2</td>\n",
       "      <td>[web, email, mobile]</td>\n",
       "      <td>10</td>\n",
       "      <td>7</td>\n",
       "      <td>discount</td>\n",
       "      <td>2906b810c7d4411798c6938adc9daaa5</td>\n",
       "      <td>G</td>\n",
       "    </tr>\n",
       "    <tr>\n",
       "      <th>8</th>\n",
       "      <td>Gruop3</td>\n",
       "      <td>0</td>\n",
       "      <td>[web, email, mobile]</td>\n",
       "      <td>0</td>\n",
       "      <td>4</td>\n",
       "      <td>informational</td>\n",
       "      <td>3f207df678b143eea3cee63160fa8bed</td>\n",
       "      <td>I</td>\n",
       "    </tr>\n",
       "    <tr>\n",
       "      <th>9</th>\n",
       "      <td>Group4</td>\n",
       "      <td>5</td>\n",
       "      <td>[web, email]</td>\n",
       "      <td>20</td>\n",
       "      <td>10</td>\n",
       "      <td>discount</td>\n",
       "      <td>0b1e1539f2cc45b7b9fa7c272da2e1d7</td>\n",
       "      <td>H</td>\n",
       "    </tr>\n",
       "  </tbody>\n",
       "</table>\n",
       "</div>"
      ],
      "text/plain": [
       "    group  reward                      channels  difficulty  duration  \\\n",
       "0  Group1       5  [web, email, mobile, social]           5         5   \n",
       "1  Group1      10  [web, email, mobile, social]          10         5   \n",
       "2  Group1       3  [web, email, mobile, social]           7         7   \n",
       "3  Group1       2  [web, email, mobile, social]          10        10   \n",
       "4  Group2      10       [email, mobile, social]          10         7   \n",
       "5  Group2       0       [email, mobile, social]           0         3   \n",
       "6  Gruop3       5          [web, email, mobile]           5         7   \n",
       "7  Gruop3       2          [web, email, mobile]          10         7   \n",
       "8  Gruop3       0          [web, email, mobile]           0         4   \n",
       "9  Group4       5                  [web, email]          20        10   \n",
       "\n",
       "      offer_type                                id offer_alias  \n",
       "0           bogo  f19421c1d4aa40978ebb69ca19b0e20d           B  \n",
       "1           bogo  4d5c57ea9a6940dd891ad53e9dbe8da0           D  \n",
       "2       discount  2298d6c36e964ae4a3e7e9706d1fb8c2           E  \n",
       "3       discount  fafdcd668e3743c1bb461111dcafc2a4           F  \n",
       "4           bogo  ae264e3637204a6fb9bb56bc8210ddfd           C  \n",
       "5  informational  5a8bc65990b245e5a138643cd4eb9837           J  \n",
       "6           bogo  9b98b8c7a33c4b65b9aebfe6a799e6d9           A  \n",
       "7       discount  2906b810c7d4411798c6938adc9daaa5           G  \n",
       "8  informational  3f207df678b143eea3cee63160fa8bed           I  \n",
       "9       discount  0b1e1539f2cc45b7b9fa7c272da2e1d7           H  "
      ]
     },
     "execution_count": 44,
     "metadata": {},
     "output_type": "execute_result"
    }
   ],
   "source": [
    "portfolio['group'] = 'NA'\n",
    "order = ['Group1', 'Group2','Gruop3','Group4']\n",
    "portfolio.loc[portfolio['offer_alias'].isin(['F', 'D','E','B']), 'group'] = order[0]\n",
    "portfolio.loc[portfolio['offer_alias'].isin(['J', 'C']), 'group'] = order[1]\n",
    "portfolio.loc[portfolio['offer_alias'].isin(['I', 'A','G']), 'group'] = order[2]\n",
    "portfolio.loc[portfolio['offer_alias'].isin(['H']), 'group'] = order[3]\n",
    "portfolio = portfolio.sort_values(by='group', key=lambda x: x.map({group: idx for idx, group in enumerate(order)}))\n",
    "\n",
    "portfolio = portfolio.reset_index(drop=True)\n",
    "portfolio.insert(0, 'group', portfolio.pop('group'))\n",
    "portfolio"
   ]
  },
  {
   "cell_type": "markdown",
   "metadata": {},
   "source": [
    "<h2>Insight:</h2>\n",
    "    \n",
    "<p> 由此可以發現把相近的view rate分在同個群組後，發送優惠券的管道相同，\n",
    "  <li> group1,group2差不到10%，得知web對於瀏覽率的貢獻很少\n",
    "  <li> group2,group3瀏覽率差超過30%，得知 social media對於瀏覽率有顯著的貢獻\n",
    "  <li> group3,group4瀏覽率接近20%，得知行動裝置對於瀏覽率有相當大的貢獻\n",
    "  <li> 單看group4，由第一點得知web對瀏覽率的貢獻非常小，因此group4中的大多數優惠都是透過email查看的。 因此，透過email收到的優惠對觀看率的貢獻很大，略高於行動裝置。\n",
    " \n",
    "<b>總結來說，星巴克應減少使用網頁推播優惠券，減少推播成本"
   ]
  }
 ],
 "metadata": {
  "colab": {
   "authorship_tag": "ABX9TyOjxrMSHr9OQcy/v7Qmm3Z8",
   "mount_file_id": "1Mfy0hbrLdY5S3h7ZrwtzgLDgPmVliMsG",
   "provenance": []
  },
  "kernelspec": {
   "display_name": "Python 3 (ipykernel)",
   "language": "python",
   "name": "python3"
  },
  "language_info": {
   "codemirror_mode": {
    "name": "ipython",
    "version": 3
   },
   "file_extension": ".py",
   "mimetype": "text/x-python",
   "name": "python",
   "nbconvert_exporter": "python",
   "pygments_lexer": "ipython3",
   "version": "3.11.5"
  }
 },
 "nbformat": 4,
 "nbformat_minor": 1
}
